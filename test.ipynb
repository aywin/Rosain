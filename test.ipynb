{
 "cells": [
  {
   "cell_type": "code",
   "execution_count": null,
   "id": "a778aad0",
   "metadata": {},
   "outputs": [],
   "source": [
    "pip installe pandas"
   ]
  },
  {
   "cell_type": "code",
   "execution_count": 1,
   "id": "4fff6105",
   "metadata": {},
   "outputs": [
    {
     "ename": "ModuleNotFoundError",
     "evalue": "No module named 'pandas'",
     "output_type": "error",
     "traceback": [
      "\u001b[31m---------------------------------------------------------------------------\u001b[39m",
      "\u001b[31mModuleNotFoundError\u001b[39m                       Traceback (most recent call last)",
      "\u001b[36mCell\u001b[39m\u001b[36m \u001b[39m\u001b[32mIn[1]\u001b[39m\u001b[32m, line 1\u001b[39m\n\u001b[32m----> \u001b[39m\u001b[32m1\u001b[39m \u001b[38;5;28;01mimport\u001b[39;00m\u001b[38;5;250m \u001b[39m\u001b[34;01mpandas\u001b[39;00m\u001b[38;5;250m \u001b[39m\u001b[38;5;28;01mas\u001b[39;00m\u001b[38;5;250m \u001b[39m\u001b[34;01mpd\u001b[39;00m\n\u001b[32m      3\u001b[39m \u001b[38;5;66;03m# Données : Object Class et Affectation\u001b[39;00m\n\u001b[32m      4\u001b[39m data = {\n\u001b[32m      5\u001b[39m     \u001b[33m\"\u001b[39m\u001b[33mObject Class\u001b[39m\u001b[33m\"\u001b[39m: [\n\u001b[32m      6\u001b[39m         \u001b[33m\"\u001b[39m\u001b[33mISI\u001b[39m\u001b[33m\"\u001b[39m,\u001b[33m\"\u001b[39m\u001b[33mCREDEMTEL\u001b[39m\u001b[33m\"\u001b[39m,\u001b[33m\"\u001b[39m\u001b[33mNG ZURICH\u001b[39m\u001b[33m\"\u001b[39m,\u001b[33m\"\u001b[39m\u001b[33mBANCS CASH\u001b[39m\u001b[33m\"\u001b[39m,\u001b[33m\"\u001b[39m\u001b[33mCUSTODY CORPORATE ACTION\u001b[39m\u001b[33m\"\u001b[39m,\u001b[33m\"\u001b[39m\u001b[33mPTF\u001b[39m\u001b[33m\"\u001b[39m,\u001b[33m\"\u001b[39m\u001b[33mCND\u001b[39m\u001b[33m\"\u001b[39m,\u001b[33m\"\u001b[39m\u001b[33mNULL\u001b[39m\u001b[33m\"\u001b[39m,\u001b[33m\"\u001b[39m\u001b[33mNETWORK\u001b[39m\u001b[33m\"\u001b[39m,\n\u001b[32m   (...)\u001b[39m\u001b[32m     18\u001b[39m     ]\n\u001b[32m     19\u001b[39m }\n",
      "\u001b[31mModuleNotFoundError\u001b[39m: No module named 'pandas'"
     ]
    }
   ],
   "source": [
    "import pandas as pd\n",
    "\n",
    "# Données : Object Class et Affectation\n",
    "data = {\n",
    "    \"Object Class\": [\n",
    "        \"ISI\",\"CREDEMTEL\",\"NG ZURICH\",\"BANCS CASH\",\"CUSTODY CORPORATE ACTION\",\"PTF\",\"CND\",\"NULL\",\"NETWORK\",\n",
    "        \"SURVEILLANCE GTW\",\"ITV\",\"[EXP]\",\"[API]\",\"EAPI\",\"FINALLEC\",\"PSIC600D\",\"PRISM\",\"PC15H\",\n",
    "        \"PFOBD\",\"PFOBU\",\"PFOBJ\",\"APP-MDAU\",\"PRO-PLI\",\"BRSI\",\"PRA0000D\",\"PTG00D\",\"PG2D\",\"CTMA\",\n",
    "        \"PMADJ\",\"PL43D\",\"PL41\",\"PDM\",\"PDM1014D\",\"FCD\",\"EXT\",\"PADLD\",\"EALJ\",\"TELTRESM\",\"PSTLJ\",\n",
    "        \"CGXM\",\"ACEJ\",\"PACM\",\"MADI\",\"PRC1000D\",\"PALID\",\"CFPM\",\"CONTROL-EM\",\"PING\",\"ZBXAGENT\"\n",
    "    ],\n",
    "    \"Affectation\": [\n",
    "        \"Process\",\"Réseau\",\"Réseau\",\"Réseau\",\"Process\",\"Process\",\"Réseau\",\"\",\"Réseau\",\n",
    "        \"Disponibilité\",\"Data\",\"Data\",\"Data\",\"Data\",\"Data\",\"Process\",\"Process\",\"Process\",\n",
    "        \"Flux\",\"Flux\",\"Flux\",\"Flux\",\"Flux\",\"Flux\",\"Flux\",\"Flux\",\"Flux\",\"Process\",\n",
    "        \"Process\",\"Process\",\"Process\",\"Process\",\"Process\",\"Process\",\"Infra\",\"Data\",\"Data\",\"Data\",\"Disponibilité\",\n",
    "        \"Data\",\"Data\",\"Process\",\"Process\",\"Process\",\"Data\",\"Process\",\"Infra\",\"Infra\",\"Infra\"\n",
    "    ]\n",
    "}\n",
    "\n",
    "# Création du DataFrame\n",
    "df = pd.DataFrame(data)\n",
    "\n",
    "# Sauvegarde dans un fichier Excel\n",
    "df.to_excel(\"object_class_affectations.xlsx\", index=False)\n",
    "\n",
    "print(\"✅ Fichier généré : object_class_affectations.xlsx\")\n"
   ]
  }
 ],
 "metadata": {
  "kernelspec": {
   "display_name": ".venv",
   "language": "python",
   "name": "python3"
  },
  "language_info": {
   "codemirror_mode": {
    "name": "ipython",
    "version": 3
   },
   "file_extension": ".py",
   "mimetype": "text/x-python",
   "name": "python",
   "nbconvert_exporter": "python",
   "pygments_lexer": "ipython3",
   "version": "3.13.5"
  }
 },
 "nbformat": 4,
 "nbformat_minor": 5
}
